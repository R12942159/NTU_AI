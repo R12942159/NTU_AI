{
 "cells": [
  {
   "cell_type": "code",
   "execution_count": 1,
   "metadata": {},
   "outputs": [
    {
     "name": "stderr",
     "output_type": "stream",
     "text": [
      "/home/r12942159/miniconda3/envs/AI/lib/python3.13/site-packages/tqdm/auto.py:21: TqdmWarning: IProgress not found. Please update jupyter and ipywidgets. See https://ipywidgets.readthedocs.io/en/stable/user_install.html\n",
      "  from .autonotebook import tqdm as notebook_tqdm\n"
     ]
    }
   ],
   "source": [
    "import os\n",
    "import json\n",
    "import torch\n",
    "\n",
    "from PIL import Image\n",
    "from tqdm import tqdm\n",
    "from torchvision import transforms\n",
    "from diffusers import StableDiffusion3Pipeline\n",
    "from transformers import AutoModelForCausalLM, AutoProcessor, GenerationConfig"
   ]
  },
  {
   "cell_type": "code",
   "execution_count": null,
   "metadata": {},
   "outputs": [],
   "source": [
    "from huggingface_hub import login\n",
    "login(\"\")"
   ]
  },
  {
   "cell_type": "code",
   "execution_count": 2,
   "metadata": {},
   "outputs": [],
   "source": [
    "def load_phi4_model(phi4_model_name, custom_cache_dir):\n",
    "    processor = AutoProcessor.from_pretrained(phi4_model_name, trust_remote_code=True, cache_dir=custom_cache_dir)\n",
    "    model = AutoModelForCausalLM.from_pretrained(\n",
    "        phi4_model_name, \n",
    "        device_map=\"cuda\", \n",
    "        torch_dtype=\"auto\", \n",
    "        trust_remote_code=True,\n",
    "        _attn_implementation='flash_attention_2',\n",
    "        cache_dir=custom_cache_dir,\n",
    "    ).cuda()\n",
    "\n",
    "    return processor, model"
   ]
  },
  {
   "cell_type": "code",
   "execution_count": 3,
   "metadata": {},
   "outputs": [],
   "source": [
    "def read_images(img_dir):\n",
    "    img_paths = [os.path.join(img_dir, f\"{str(i).zfill(6)}.jpg\") for i in range(1, 101)]\n",
    "    images = [Image.open(path) for path in img_paths]\n",
    "\n",
    "    return images"
   ]
  },
  {
   "cell_type": "code",
   "execution_count": null,
   "metadata": {},
   "outputs": [],
   "source": [
    "def generate_text_prompt(image, processor, model, phi4_model_name):\n",
    "    # instruction = \"<|user|><|image_1|>Describe this person in a simple, playful cartoon-style, like Snoopy characters. Keep the person's features but render them in a colorful, exaggerated, and minimalist cartoon style. The character should have the same hair color, expression, and outfit as in the image, but depicted in a Peanuts-like, childlike manner with a simple background. <|end|><|assistant|>\"\n",
    "    instruction = \"<|user|><|image_1|>Describe this person in the exact artistic style of Peanuts comics (Snoopy-style). Ensure the description makes the character look like they belong in a Charles Schulz comic strip. The person’s features—such as hair color, expression, and outfit—should remain the same, but they must be transformed into the signature Peanuts cartoon style: simple, bold outlines, flat colors, round heads, dot eyes, and minimal shading. The background should be minimalistic, similar to classic Peanuts comic settings. <|end|><|assistant|>\"\n",
    "    generation_config = GenerationConfig.from_pretrained(phi4_model_name)\n",
    "    inputs = processor(text=instruction, images=image, return_tensors='pt').to('cuda:0')\n",
    "\n",
    "    with torch.no_grad():\n",
    "        generated_ids = model.generate(\n",
    "            **inputs,\n",
    "            max_new_tokens=1000,\n",
    "            generation_config=generation_config,\n",
    "        )\n",
    "        generated_ids = generated_ids[:, inputs['input_ids'].shape[1]:]\n",
    "        prompt = processor.batch_decode(generated_ids, \n",
    "                                        skip_special_tokens=True,\n",
    "                                        clean_up_tokenization_spaces=False,)\n",
    "    \n",
    "    return prompt"
   ]
  },
  {
   "cell_type": "code",
   "execution_count": 5,
   "metadata": {},
   "outputs": [],
   "source": [
    "def generate_text_prompts(images, length):\n",
    "    prompts = []\n",
    "    for i in tqdm(range(length)):\n",
    "        prompt = generate_text_prompt(\n",
    "            images[i], \n",
    "            phi4_processor, \n",
    "            phi4_model, \n",
    "            \"microsoft/Phi-4-multimodal-instruct\"\n",
    "        )\n",
    "        prompts.append(prompt)\n",
    "    \n",
    "    return prompts"
   ]
  },
  {
   "cell_type": "code",
   "execution_count": 10,
   "metadata": {},
   "outputs": [],
   "source": [
    "def save_prompts2json(prompts, filename):\n",
    "    with open(filename, \"w\", encoding=\"utf-8\") as f:\n",
    "        json.dump({\"prompts\": prompts}, f, indent=4)\n",
    "    \n",
    "    print(f\"Prompts successfully saved to {filename}\")"
   ]
  },
  {
   "cell_type": "code",
   "execution_count": 3,
   "metadata": {},
   "outputs": [],
   "source": [
    "def load_sd3_pipeline(sd3_model_name, cache_dir):\n",
    "    pipe = StableDiffusion3Pipeline.from_pretrained(sd3_model_name, \n",
    "                                                   cache_dir = cache_dir,\n",
    "                                                   torch_dtype=torch.float16,\n",
    "                                                   )\n",
    "    pipe = pipe.to(\"cuda\")\n",
    "    \n",
    "    return pipe"
   ]
  },
  {
   "cell_type": "code",
   "execution_count": 4,
   "metadata": {},
   "outputs": [],
   "source": [
    "def generate_stylized_image(prompt, sd3_pipe):\n",
    "    image = sd3_pipe(\n",
    "        prompt,\n",
    "        negative_prompt=\"blurry, distorted, low quality\",\n",
    "        num_inference_steps=32,\n",
    "        guidance_scale=7.0,\n",
    "    ).images[0]\n",
    "\n",
    "    return image"
   ]
  },
  {
   "cell_type": "code",
   "execution_count": 5,
   "metadata": {},
   "outputs": [],
   "source": [
    "def resize_image(image):\n",
    "    transform = transforms.Compose([\n",
    "        transforms.Resize((224, 224)),\n",
    "        transforms.ToTensor()\n",
    "    ])\n",
    "    return transform(image).permute(1, 2, 0).mul(255).byte().numpy()"
   ]
  },
  {
   "cell_type": "code",
   "execution_count": 6,
   "metadata": {},
   "outputs": [],
   "source": [
    "def generate_stylized_images(prompts, sd3_pipe, length):\n",
    "    images = []\n",
    "    for i in tqdm(range(length)):\n",
    "        image = generate_stylized_image(prompts[i], sd3_pipe)\n",
    "        image = Image.fromarray(resize_image(image))\n",
    "        images.append(image)\n",
    "    \n",
    "    return images"
   ]
  },
  {
   "cell_type": "code",
   "execution_count": 12,
   "metadata": {},
   "outputs": [],
   "source": [
    "def save_images(stylized_resize_images, output_folder):\n",
    "    if not os.path.exists(output_folder):\n",
    "        os.makedirs(output_folder)\n",
    "        \n",
    "    for i, resized_image in enumerate(stylized_resize_images):\n",
    "        output_filename = f\"{i+1:06d}.jpg\"\n",
    "        output_path = os.path.join(output_folder, output_filename)\n",
    "        resized_image.save(output_path)\n",
    "        \n",
    "        print(f\"Processed {output_filename}\")"
   ]
  },
  {
   "cell_type": "markdown",
   "metadata": {},
   "source": [
    "#### main()"
   ]
  },
  {
   "cell_type": "code",
   "execution_count": null,
   "metadata": {},
   "outputs": [
    {
     "name": "stdout",
     "output_type": "stream",
     "text": [
      "Prompts successfully saved to task2-1_prompts.json\n"
     ]
    }
   ],
   "source": [
    "phi4_processor, phi4_model = load_phi4_model(phi4_model_name = \"microsoft/Phi-4-multimodal-instruct\", \n",
    "                                             custom_cache_dir = \"/home/r12942159/data_18TB\")\n",
    "\n",
    "images = read_images(img_dir = '/home/r12942159/NTU_AI/Hw1/content_image/')\n",
    "\n",
    "prompts = generate_text_prompts(images, len(images))\n",
    "save_prompts2json(prompts, 'task2-1_prompts.json')"
   ]
  },
  {
   "cell_type": "code",
   "execution_count": null,
   "metadata": {},
   "outputs": [],
   "source": [
    "with open(\"task2-1_prompts.json\", \"r\", encoding=\"utf-8\") as f:\n",
    "    prompts = json.load(f)\n",
    "\n",
    "sd3_pipe = load_sd3_pipeline(\"stabilityai/stable-diffusion-3-medium-diffusers\",\n",
    "                             cache_dir = \"/home/r12942159/data_18TB\")\n",
    "\n",
    "stylized_resize_images = generate_stylized_images(prompts[\"prompts\"], sd3_pipe, len(prompts[\"prompts\"]))\n",
    "save_images(stylized_resize_images, '/home/r12942159/NTU_AI/Hw1/hw1_r12942159_stylized_images/')\n"
   ]
  }
 ],
 "metadata": {
  "kernelspec": {
   "display_name": "AI",
   "language": "python",
   "name": "python3"
  },
  "language_info": {
   "codemirror_mode": {
    "name": "ipython",
    "version": 3
   },
   "file_extension": ".py",
   "mimetype": "text/x-python",
   "name": "python",
   "nbconvert_exporter": "python",
   "pygments_lexer": "ipython3",
   "version": "3.13.2"
  }
 },
 "nbformat": 4,
 "nbformat_minor": 2
}
